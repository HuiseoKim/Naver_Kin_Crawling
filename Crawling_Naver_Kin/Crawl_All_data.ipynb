{
 "cells": [
  {
   "cell_type": "markdown",
   "id": "9345a594",
   "metadata": {},
   "source": [
    "# get page URL"
   ]
  },
  {
   "cell_type": "code",
   "execution_count": 1,
   "id": "706cef07",
   "metadata": {},
   "outputs": [
    {
     "name": "stdout",
     "output_type": "stream",
     "text": [
      "4950\n"
     ]
    }
   ],
   "source": [
    "all_categories=[]\n",
    "num=[8,4,11,5,2,13,4,0,0,0]\n",
    "for i in range(10):\n",
    "    for j in range(num[i]+1):\n",
    "        if num[i]!=0:\n",
    "            all_categories.append(40000+100*(i+1)+(j+1))\n",
    "        num[i]-=1\n",
    "        \n",
    "        if num[i]==-1:\n",
    "            all_categories.append(400+(i+1))\n",
    "        if num[i]==0:\n",
    "            break\n",
    "\n",
    "url_list=[]\n",
    "for categories in all_categories:\n",
    "    for pages in range(99):\n",
    "        url_list.append(\"https://kin.naver.com/qna/kinupList.naver?dirId=\"+str(categories)+\"&page=\"+str(pages+1))\n",
    "print(len(url_list))"
   ]
  },
  {
   "cell_type": "markdown",
   "id": "25989f35",
   "metadata": {},
   "source": [
    "# get all URL"
   ]
  },
  {
   "cell_type": "code",
   "execution_count": 4,
   "id": "b0912696",
   "metadata": {},
   "outputs": [
    {
     "name": "stdout",
     "output_type": "stream",
     "text": [
      "1087.7369277477264\n"
     ]
    }
   ],
   "source": [
    "import requests\n",
    "from bs4 import BeautifulSoup\n",
    "from urllib.parse import urljoin\n",
    "import pandas as pd\n",
    "import time\n",
    "\n",
    "start_time=time.time()\n",
    "side_url=[]\n",
    "\n",
    "for url in url_list:\n",
    "    response = requests.get(url)\n",
    "    soup = BeautifulSoup(response.content, \"html.parser\")\n",
    "\n",
    "    link_tags = soup.find_all('a')\n",
    "    for link_tag in link_tags:\n",
    "        href = link_tag.get('href')\n",
    "        absolute_url = urljoin(url, href)\n",
    "        if \"https://kin.naver.com/qna/detail.naver?d1id=4&\" in absolute_url:\n",
    "            side_url.append(absolute_url)\n",
    "            \n",
    "df=pd.DataFrame(side_url)\n",
    "df.to_excel(\"./Naver_URL.xlsx\")\n",
    "print(time.time()-start_time)"
   ]
  },
  {
   "cell_type": "markdown",
   "id": "418a6e5f",
   "metadata": {},
   "source": [
    "# data collect"
   ]
  },
  {
   "cell_type": "code",
   "execution_count": 5,
   "id": "1c7e6334",
   "metadata": {},
   "outputs": [
    {
     "name": "stdout",
     "output_type": "stream",
     "text": [
      "72708\n"
     ]
    }
   ],
   "source": [
    "side_url = list(set(side_url))\n",
    "print(len(side_url))"
   ]
  },
  {
   "cell_type": "code",
   "execution_count": 6,
   "id": "0124ab8b",
   "metadata": {
    "scrolled": false
   },
   "outputs": [],
   "source": [
    "result_dict_list=[]"
   ]
  },
  {
   "cell_type": "code",
   "execution_count": 7,
   "id": "c87f9104",
   "metadata": {},
   "outputs": [
    {
     "ename": "IndexError",
     "evalue": "list index out of range",
     "output_type": "error",
     "traceback": [
      "\u001b[1;31m---------------------------------------------------------------------------\u001b[0m",
      "\u001b[1;31mIndexError\u001b[0m                                Traceback (most recent call last)",
      "Cell \u001b[1;32mIn[7], line 25\u001b[0m\n\u001b[0;32m     23\u001b[0m answer_divs \u001b[38;5;241m=\u001b[39m soup\u001b[38;5;241m.\u001b[39mfind_all(\u001b[38;5;124m\"\u001b[39m\u001b[38;5;124mdiv\u001b[39m\u001b[38;5;124m\"\u001b[39m, class_\u001b[38;5;241m=\u001b[39m\u001b[38;5;124m\"\u001b[39m\u001b[38;5;124m_endContentsText c-heading-answer__content-user\u001b[39m\u001b[38;5;124m\"\u001b[39m)\n\u001b[0;32m     24\u001b[0m answer_accepted_divs \u001b[38;5;241m=\u001b[39m soup\u001b[38;5;241m.\u001b[39mfind_all(\u001b[38;5;124m\"\u001b[39m\u001b[38;5;124mdiv\u001b[39m\u001b[38;5;124m\"\u001b[39m, class_\u001b[38;5;241m=\u001b[39m\u001b[38;5;124m\"\u001b[39m\u001b[38;5;124mitem_list\u001b[39m\u001b[38;5;124m\"\u001b[39m)\n\u001b[1;32m---> 25\u001b[0m views_divs \u001b[38;5;241m=\u001b[39m \u001b[43msoup\u001b[49m\u001b[38;5;241;43m.\u001b[39;49m\u001b[43mfind_all\u001b[49m\u001b[43m(\u001b[49m\u001b[38;5;124;43m\"\u001b[39;49m\u001b[38;5;124;43mspan\u001b[39;49m\u001b[38;5;124;43m\"\u001b[39;49m\u001b[43m,\u001b[49m\u001b[43m \u001b[49m\u001b[43mclass_\u001b[49m\u001b[38;5;241;43m=\u001b[39;49m\u001b[38;5;124;43m'\u001b[39;49m\u001b[38;5;124;43mc-userinfo__info\u001b[39;49m\u001b[38;5;124;43m'\u001b[39;49m\u001b[43m)\u001b[49m\u001b[43m[\u001b[49m\u001b[38;5;241;43m1\u001b[39;49m\u001b[43m]\u001b[49m\u001b[38;5;241m.\u001b[39mtext\u001b[38;5;241m.\u001b[39msplit()[\u001b[38;5;241m1\u001b[39m]    \n\u001b[0;32m     27\u001b[0m \u001b[38;5;28;01mif\u001b[39;00m ques_divs \u001b[38;5;129;01mis\u001b[39;00m \u001b[38;5;129;01mnot\u001b[39;00m \u001b[38;5;28;01mNone\u001b[39;00m:\n\u001b[0;32m     28\u001b[0m     ques_text \u001b[38;5;241m=\u001b[39m ques_divs\u001b[38;5;241m.\u001b[39mget_text(strip\u001b[38;5;241m=\u001b[39m\u001b[38;5;28;01mTrue\u001b[39;00m)\n",
      "\u001b[1;31mIndexError\u001b[0m: list index out of range"
     ]
    }
   ],
   "source": [
    "start_time=time.time()\n",
    "for url in side_url:\n",
    "    response = requests.get(url)\n",
    "    soup = BeautifulSoup(response.content, \"html.parser\")\n",
    "\n",
    "    result_dict = {\n",
    "        \"quest\": [], #제목\n",
    "        \"detail\": [], #내용\n",
    "        \"first_answer\": [], #채택순으로 fisrst, second, ..\n",
    "        \"first_answer_accepted\" : [], #답변자의 채택답변수, 받은 감사수\n",
    "        \"second_answer\": [],\n",
    "        \"second_answer_accepted\": [],\n",
    "        \"third_answer\" : [],\n",
    "        \"third_answer_accepted\": [],\n",
    "        \"fourth_answer\" : [],\n",
    "        \"fourth_answer_accepted\": [],\n",
    "        \"views\" : [],\n",
    "        \"url\" : []\n",
    "    }\n",
    "    \n",
    "    ques_divs=soup.find(\"div\", class_=\"title\")\n",
    "    detail_divs=soup.find(\"div\", class_=\"c-heading__content\")\n",
    "    answer_divs = soup.find_all(\"div\", class_=\"_endContentsText c-heading-answer__content-user\")\n",
    "    answer_accepted_divs = soup.find_all(\"div\", class_=\"item_list\")\n",
    "    views_divs = soup.find_all(\"span\", class_='c-userinfo__info')[1].text.split()[1]    \n",
    "    \n",
    "    if ques_divs is not None:\n",
    "        ques_text = ques_divs.get_text(strip=True)\n",
    "    else:\n",
    "        ques_text = None\n",
    "    \n",
    "    if detail_divs is not None:\n",
    "        detail_text = detail_divs.get_text(strip=True)\n",
    "    else:\n",
    "        detail_text = None\n",
    "        \n",
    "    count_answer=0\n",
    "    \n",
    "    for answer_div,answer_accepted_div in zip(answer_divs,answer_accepted_divs):\n",
    "        if count_answer==0:\n",
    "            first_text=False\n",
    "            first_accepted_text=False\n",
    "            second_text=False\n",
    "            second_accepted_text=False\n",
    "            third_text=False\n",
    "            third_accepted_text=False\n",
    "            fourth_text=False\n",
    "            fourth_accepted_text=False\n",
    "            \n",
    "            first_text = answer_div.get_text(strip=True)\n",
    "            first_accepted_text = answer_accepted_div.get_text(strip=True)\n",
    "        elif count_answer==1:\n",
    "            second_text = answer_div.get_text(strip=True)\n",
    "            second_accepted_text = answer_accepted_div.get_text(strip=True)\n",
    "        elif count_answer==2:\n",
    "            third_text = answer_div.get_text(strip=True)\n",
    "            third_accepted_text = answer_accepted_div.get_text(strip=True)\n",
    "        elif count_answer==3:\n",
    "            fourth_text = answer_div.get_text(strip=True)\n",
    "            fourth_accepted_text = answer_accepted_div.get_text(strip=True)\n",
    "        count_answer+=1\n",
    "\n",
    "    \n",
    "    if ques_text:\n",
    "        result_dict[\"quest\"].append(ques_text)\n",
    "    else:\n",
    "        result_dict[\"quest\"].append(None)\n",
    "    \n",
    "    if detail_text:\n",
    "        result_dict[\"detail\"].append(detail_text)\n",
    "    else:\n",
    "        result_dict[\"detail\"].append(None)\n",
    "    \n",
    "    if first_text:\n",
    "        result_dict[\"first_answer\"].append(first_text)\n",
    "        result_dict[\"first_answer_accepted\"].append(first_accepted_text)\n",
    "    else:\n",
    "        result_dict[\"first_answer\"].append(None)\n",
    "        result_dict[\"first_answer_accepted\"].append(None)\n",
    "        \n",
    "    if second_text:\n",
    "        result_dict[\"second_answer\"].append(second_text)\n",
    "        result_dict[\"second_answer_accepted\"].append(second_accepted_text)\n",
    "    else:\n",
    "        result_dict[\"second_answer\"].append(None)\n",
    "        result_dict[\"second_answer_accepted\"].append(None)\n",
    "\n",
    "    if third_text:\n",
    "        result_dict[\"third_answer\"].append(third_text)\n",
    "        result_dict[\"third_answer_accepted\"].append(third_accepted_text)\n",
    "    else:\n",
    "        result_dict[\"third_answer\"].append(None)\n",
    "        result_dict[\"third_answer_accepted\"].append(None)\n",
    "        \n",
    "    if fourth_text:\n",
    "        result_dict[\"fourth_answer\"].append(fourth_text)\n",
    "        result_dict[\"fourth_answer_accepted\"].append(fourth_accepted_text)\n",
    "    else:\n",
    "        result_dict[\"fourth_answer\"].append(None)\n",
    "        result_dict[\"fourth_answer_accepted\"].append(None)\n",
    "    \n",
    "    result_dict[\"url\"].append(url)\n",
    "    result_dict[\"views\"].append(views_divs)\n",
    "    result_dict_list.append(result_dict)\n",
    "print(time.time()-start_time)"
   ]
  },
  {
   "cell_type": "code",
   "execution_count": 14,
   "id": "abf40c6d",
   "metadata": {},
   "outputs": [
    {
     "name": "stdout",
     "output_type": "stream",
     "text": [
      "67503\n"
     ]
    }
   ],
   "source": [
    "print(len(result_dict_list))"
   ]
  },
  {
   "cell_type": "code",
   "execution_count": 9,
   "id": "13063bee",
   "metadata": {},
   "outputs": [],
   "source": [
    "import pandas as pd\n",
    "\n",
    "df=pd.DataFrame(result_dict_list)\n",
    "df.to_excel(\"./Naver_economy_all_data1.xlsx\")"
   ]
  },
  {
   "cell_type": "code",
   "execution_count": null,
   "id": "46467270",
   "metadata": {},
   "outputs": [],
   "source": []
  }
 ],
 "metadata": {
  "kernelspec": {
   "display_name": "Python 3 (ipykernel)",
   "language": "python",
   "name": "python3"
  },
  "language_info": {
   "codemirror_mode": {
    "name": "ipython",
    "version": 3
   },
   "file_extension": ".py",
   "mimetype": "text/x-python",
   "name": "python",
   "nbconvert_exporter": "python",
   "pygments_lexer": "ipython3",
   "version": "3.9.16"
  }
 },
 "nbformat": 4,
 "nbformat_minor": 5
}

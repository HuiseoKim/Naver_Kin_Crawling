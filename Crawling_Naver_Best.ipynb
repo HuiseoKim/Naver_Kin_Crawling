{
 "cells": [
  {
   "cell_type": "markdown",
   "id": "03714564",
   "metadata": {},
   "source": [
    "# best link url"
   ]
  },
  {
   "cell_type": "code",
   "execution_count": 1,
   "id": "f25d115d",
   "metadata": {},
   "outputs": [],
   "source": [
    "best_url_list=[]\n",
    "for i in range(45):\n",
    "    best_url_list.append(\"https://kin.naver.com/best/listaha.naver?svc=KIN&dirId=4&page=\"+str(i+1))"
   ]
  },
  {
   "cell_type": "code",
   "execution_count": 2,
   "id": "8446ab64",
   "metadata": {},
   "outputs": [],
   "source": [
    "import requests\n",
    "from bs4 import BeautifulSoup\n",
    "from urllib.parse import urljoin\n",
    "\n",
    "side_url=[]\n",
    "\n",
    "for url in best_url_list:\n",
    "    response = requests.get(url)\n",
    "    soup = BeautifulSoup(response.content, \"html.parser\")\n",
    "\n",
    "    link_tags = soup.find_all('a')\n",
    "    for link_tag in link_tags:\n",
    "        href = link_tag.get('href')\n",
    "        absolute_url = urljoin(url, href)\n",
    "        if \"https://kin.naver.com/qna/detail.naver?d1id=4&\" in absolute_url:\n",
    "            side_url.append(absolute_url)"
   ]
  },
  {
   "cell_type": "markdown",
   "id": "0cb20566",
   "metadata": {},
   "source": [
    "# data collect"
   ]
  },
  {
   "cell_type": "code",
   "execution_count": 3,
   "id": "cd3e3a3c",
   "metadata": {},
   "outputs": [
    {
     "name": "stdout",
     "output_type": "stream",
     "text": [
      "889\n"
     ]
    }
   ],
   "source": [
    "print(len(side_url))\n",
    "result_dict_list=[]"
   ]
  },
  {
   "cell_type": "code",
   "execution_count": 22,
   "id": "8a5f1800",
   "metadata": {},
   "outputs": [],
   "source": [
    "for url in side_url:\n",
    "    response = requests.get(url)\n",
    "    soup = BeautifulSoup(response.content, \"html.parser\")\n",
    "\n",
    "    result_dict = {\n",
    "        \"quest\": [],\n",
    "        \"detail\": [],\n",
    "        \"best_answer\": [],\n",
    "        \"second_answer\": [],\n",
    "        \"url\" : []\n",
    "    }\n",
    "    \n",
    "    ques_divs=soup.find(\"div\", class_=\"title\")\n",
    "    detail_divs=soup.find(\"div\", class_=\"c-heading__content\")\n",
    "    answer_divs = soup.find_all(\"div\", class_=\"_endContentsText c-heading-answer__content-user\")\n",
    "    \n",
    "    if ques_divs is not None:\n",
    "        ques_text = ques_divs.get_text(strip=True)\n",
    "    else:\n",
    "        ques_text = None\n",
    "    \n",
    "    if detail_divs is not None:\n",
    "        detail_text = detail_divs.get_text(strip=True)\n",
    "    else:\n",
    "        detail_text = None\n",
    "        \n",
    "    count_answer=0\n",
    "\n",
    "    for answer_div in answer_divs:\n",
    "        if count_answer==0:\n",
    "            best_text = answer_div.get_text(strip=True)\n",
    "            second_text = False\n",
    "            count_answer+=1\n",
    "        elif count_answer==1:\n",
    "            second_text = answer_div.get_text(strip=True)\n",
    "            break\n",
    "    \n",
    "    if ques_text:\n",
    "        result_dict[\"quest\"].append(ques_text)\n",
    "    else:\n",
    "        result_dict[\"quest\"].append(None)\n",
    "    \n",
    "    if detail_text:\n",
    "        result_dict[\"detail\"].append(detail_text)\n",
    "    else:\n",
    "        result_dict[\"detail\"].append(None)\n",
    "    \n",
    "    if best_text:\n",
    "        result_dict[\"best_answer\"].append(best_text)\n",
    "    else:\n",
    "        result_dict[\"best_answer\"].append(None)\n",
    "    \n",
    "    if second_text:\n",
    "        result_dict[\"second_answer\"].append(second_text)\n",
    "    else:\n",
    "        result_dict[\"second_answer\"].append(None)\n",
    "    \n",
    "    result_dict[\"url\"].append(url)\n",
    "    result_dict_list.append(result_dict)\n",
    "    "
   ]
  },
  {
   "cell_type": "markdown",
   "id": "3e5d9dbd",
   "metadata": {},
   "source": [
    "# data download"
   ]
  },
  {
   "cell_type": "code",
   "execution_count": 39,
   "id": "70231d15",
   "metadata": {},
   "outputs": [],
   "source": [
    "import pandas as pd\n",
    "\n",
    "df=pd.DataFrame(result_dict_list)\n",
    "df.to_excel(\"./Naver_economy_best_data.xlsx\")"
   ]
  },
  {
   "cell_type": "code",
   "execution_count": null,
   "id": "b05b1426",
   "metadata": {},
   "outputs": [],
   "source": []
  }
 ],
 "metadata": {
  "kernelspec": {
   "display_name": "Python 3 (ipykernel)",
   "language": "python",
   "name": "python3"
  },
  "language_info": {
   "codemirror_mode": {
    "name": "ipython",
    "version": 3
   },
   "file_extension": ".py",
   "mimetype": "text/x-python",
   "name": "python",
   "nbconvert_exporter": "python",
   "pygments_lexer": "ipython3",
   "version": "3.9.16"
  }
 },
 "nbformat": 4,
 "nbformat_minor": 5
}

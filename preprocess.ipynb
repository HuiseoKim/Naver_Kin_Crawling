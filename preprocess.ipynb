{
 "cells": [
  {
   "cell_type": "code",
   "execution_count": 1,
   "id": "9a943670",
   "metadata": {},
   "outputs": [],
   "source": [
    "import pandas as pd\n",
    "\n",
    "file_name='./Naver_kin_data_raw.xlsx'\n",
    "data=pd.read_excel(file_name)"
   ]
  },
  {
   "cell_type": "code",
   "execution_count": 2,
   "id": "66f64c6a",
   "metadata": {
    "collapsed": true
   },
   "outputs": [
    {
     "data": {
      "text/plain": [
       "'\\n\"quest\": [],\\n\"detail\": [],\\n\"first_answer\": [],\\n\"first_answer_accepted\" : [],\\n\"second_answer\": [],\\n\"second_answer_accepted\": [],\\n\"third_answer\" : [],\\n\"third_answer_accepted\": [],\\n\"fourth_answer\" : [],\\n\"fourth_answer_accepted\": [],\\n\"views\" : [],\\n\"url\" : []\\n'"
      ]
     },
     "execution_count": 2,
     "metadata": {},
     "output_type": "execute_result"
    }
   ],
   "source": [
    "\"\"\"\n",
    "\"quest\": [],\n",
    "\"detail\": [],\n",
    "\"first_answer\": [],\n",
    "\"first_answer_accepted\" : [],\n",
    "\"second_answer\": [],\n",
    "\"second_answer_accepted\": [],\n",
    "\"third_answer\" : [],\n",
    "\"third_answer_accepted\": [],\n",
    "\"fourth_answer\" : [],\n",
    "\"fourth_answer_accepted\": [],\n",
    "\"views\" : [],\n",
    "\"url\" : []\n",
    "\"\"\""
   ]
  },
  {
   "cell_type": "code",
   "execution_count": 6,
   "id": "2655b2fd",
   "metadata": {},
   "outputs": [],
   "source": [
    "ad_keywords=[\"광고\",\"광고문구\",\"광고판매\",\"할인\",\"이벤트\",\"프로모션\",\"특가\",\"판매\",\n",
    "             \"구매\",\"쿠폰\",\"혜택\",\"세일\",\"저렴한\",\"신제품\",\"무료\",\"포인트\",\"할인코드\",\n",
    "             \"경품\",\"빠른배송\",\"할인율\",\"한정판매\",\"인기상품\",\"이용혜택\",\"사은품\",\n",
    "             \"시즌세일\",\"VIP특가\",\"기간한정\",\"신규회원\",\"무이자\",\"대박세일\",\"사전예약\",\n",
    "             \"추천상품\",\"인기제품\",\"@.\",\"http\"]\n",
    "num=0\n",
    "\n",
    "for i in range(len(data)):\n",
    "    if any(ad_keyword in data.loc[i]['first_answer'] for ad_keyword in ad_keywords):\n",
    "        num+=1\n",
    "        #print(data.loc[i]['url'])"
   ]
  },
  {
   "cell_type": "code",
   "execution_count": 7,
   "id": "251d076f",
   "metadata": {},
   "outputs": [
    {
     "name": "stdout",
     "output_type": "stream",
     "text": [
      "323168\n",
      "123333\n"
     ]
    }
   ],
   "source": [
    "#가입시, 가입 시, 추천코드, 사진\n",
    "print(len(data))\n",
    "print(num)"
   ]
  },
  {
   "cell_type": "code",
   "execution_count": 8,
   "id": "caa82161",
   "metadata": {},
   "outputs": [],
   "source": [
    "for i in range(len(data)):\n",
    "    data.loc[i,'quest']=data.loc[i]['quest'][2:-2]\n",
    "    data.loc[i,'detail']=data.loc[i]['detail'][2:-2]\n",
    "    data.loc[i,'first_answer']=data.loc[i]['first_answer'][2:-2]\n",
    "    data.loc[i,'first_answer_accepted']=data.loc[i]['first_answer_accepted'][2:-2]\n",
    "    data.loc[i,'second_answer']=data.loc[i]['second_answer'][2:-2]\n",
    "    data.loc[i,'second_answer_accepted']=data.loc[i]['second_answer_accepted'][2:-2]\n",
    "    data.loc[i,'third_answer']=data.loc[i]['third_answer'][2:-2]\n",
    "    data.loc[i,'third_answer_accepted']=data.loc[i]['third_answer_accepted'][2:-2]\n",
    "    data.loc[i,'fourth_answer']=data.loc[i]['fourth_answer'][2:-2]\n",
    "    data.loc[i,'fourth_answer_accepted']=data.loc[i]['fourth_answer_accepted'][2:-2]\n",
    "    data.loc[i,'views']=data.loc[i]['views'][2:-2]\n",
    "    data.loc[i,'url']=data.loc[i]['url'][2:-2]"
   ]
  },
  {
   "cell_type": "code",
   "execution_count": 15,
   "id": "9429d785",
   "metadata": {},
   "outputs": [],
   "source": [
    "data.loc[0,'quest']='개인회생변제금'"
   ]
  },
  {
   "cell_type": "code",
   "execution_count": 16,
   "id": "3b7f491b",
   "metadata": {},
   "outputs": [
    {
     "name": "stdout",
     "output_type": "stream",
     "text": [
      "Unnamed: 0                                                                0\n",
      "quest                                                               개인회생변제금\n",
      "detail                    저는 3인가구이구요 22살입니다남편이랑 저랑 애기요제빚이 1400만원정도잇는데요개인...\n",
      "first_answer              안녕하세요 질문에 답변드립니다.저는 3인가구이구요 22살입니다남편이랑 저랑 애기요제...\n",
      "first_answer_accepted                                      채택답변수 488받은감사수 1\n",
      "second_answer             저는 3인가구이구요 22살입니다남편이랑 저랑 애기요제빚이 1400만원정도잇는데요개인...\n",
      "second_answer_accepted                                   채택답변수 1만+받은감사수 305\n",
      "third_answer              개인회생 신청자격1. 본인 채무금액 14백만원 월 소득 130만원정도2. 남편 소득...\n",
      "third_answer_accepted                                     채택답변수 1만+받은감사수 70\n",
      "fourth_answer             자세한건 서류를 받아봐야알지만 변제30만원정도예상되요.원금에 대해서만 나누어서 갚는...\n",
      "fourth_answer_accepted                                   채택답변수 1,375받은감사수 8\n",
      "views                                                                   883\n",
      "url                       https://kin.naver.com/qna/detail.naver?d1id=4&...\n",
      "Name: 0, dtype: object\n"
     ]
    }
   ],
   "source": [
    "print(data.loc[0])"
   ]
  },
  {
   "cell_type": "code",
   "execution_count": 17,
   "id": "0e3de205",
   "metadata": {},
   "outputs": [],
   "source": [
    "data.to_excel('preprocessed_data.xlsx',index=False)"
   ]
  },
  {
   "cell_type": "code",
   "execution_count": null,
   "id": "d627443a",
   "metadata": {},
   "outputs": [],
   "source": []
  }
 ],
 "metadata": {
  "kernelspec": {
   "display_name": "Python 3 (ipykernel)",
   "language": "python",
   "name": "python3"
  },
  "language_info": {
   "codemirror_mode": {
    "name": "ipython",
    "version": 3
   },
   "file_extension": ".py",
   "mimetype": "text/x-python",
   "name": "python",
   "nbconvert_exporter": "python",
   "pygments_lexer": "ipython3",
   "version": "3.9.16"
  }
 },
 "nbformat": 4,
 "nbformat_minor": 5
}
